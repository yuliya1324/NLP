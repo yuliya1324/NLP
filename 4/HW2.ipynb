{
  "nbformat": 4,
  "nbformat_minor": 0,
  "metadata": {
    "colab": {
      "provenance": [],
      "collapsed_sections": [
        "1ICXEpFDdoZ2",
        "8uAR9DAlfYMf",
        "7IA28ecxfbaB",
        "aC8IVcn5f0Cg"
      ]
    },
    "kernelspec": {
      "name": "python3",
      "display_name": "Python 3"
    },
    "language_info": {
      "name": "python"
    }
  },
  "cells": [
    {
      "cell_type": "markdown",
      "source": [
        "# HW2\n",
        "\n",
        "Короткова Юлия"
      ],
      "metadata": {
        "id": "fEZJmJY8X2fH"
      }
    },
    {
      "cell_type": "markdown",
      "source": [
        "## Чтение данных"
      ],
      "metadata": {
        "id": "1ICXEpFDdoZ2"
      }
    },
    {
      "cell_type": "markdown",
      "source": [
        "Данные я использовала \"Musical_Instruments_5.json.gz\" - датасет с отзывами о музыкальных инструментах."
      ],
      "metadata": {
        "id": "WzugqfSsmfMa"
      }
    },
    {
      "cell_type": "code",
      "execution_count": 1,
      "metadata": {
        "colab": {
          "base_uri": "https://localhost:8080/"
        },
        "id": "KU-xP0dXOPjO",
        "outputId": "09c7e9dc-6789-413f-9481-fb195e8a1edf"
      },
      "outputs": [
        {
          "output_type": "stream",
          "name": "stdout",
          "text": [
            "Mounted at /content/drive\n"
          ]
        }
      ],
      "source": [
        "from google.colab import drive\n",
        "drive.mount('/content/drive', force_remount=True)"
      ]
    },
    {
      "cell_type": "code",
      "source": [
        "import pandas as pd\n",
        "import gzip\n",
        "import json\n",
        "from collections import Counter, defaultdict\n",
        "import numpy as np\n",
        "\n",
        "import nltk\n",
        "from nltk import word_tokenize\n",
        "from nltk.corpus import stopwords\n",
        "from nltk.stem.snowball import SnowballStemmer\n",
        "import re\n",
        "\n",
        "nltk.download('averaged_perceptron_tagger')\n",
        "nltk.download('stopwords')\n",
        "nltk.download('punkt')\n",
        "stopwords = stopwords.words('english')"
      ],
      "metadata": {
        "colab": {
          "base_uri": "https://localhost:8080/"
        },
        "id": "pfH2cqrrOj67",
        "outputId": "195e94ae-8c91-4200-b42c-e425ee1a803b"
      },
      "execution_count": 60,
      "outputs": [
        {
          "output_type": "stream",
          "name": "stderr",
          "text": [
            "[nltk_data] Downloading package averaged_perceptron_tagger to\n",
            "[nltk_data]     /root/nltk_data...\n",
            "[nltk_data]   Package averaged_perceptron_tagger is already up-to-\n",
            "[nltk_data]       date!\n",
            "[nltk_data] Downloading package stopwords to /root/nltk_data...\n",
            "[nltk_data]   Package stopwords is already up-to-date!\n",
            "[nltk_data] Downloading package punkt to /root/nltk_data...\n",
            "[nltk_data]   Package punkt is already up-to-date!\n"
          ]
        }
      ]
    },
    {
      "cell_type": "code",
      "source": [
        "def parse(path):\n",
        "  g = gzip.open(path, 'rb')\n",
        "  for l in g:\n",
        "    yield json.loads(l)\n",
        "\n",
        "def getDF(path):\n",
        "  i = 0\n",
        "  df = {}\n",
        "  for d in parse(path):\n",
        "    df[i] = d\n",
        "    i += 1\n",
        "  return pd.DataFrame.from_dict(df, orient='index')"
      ],
      "metadata": {
        "id": "2-mOsQ8UOwwy"
      },
      "execution_count": 3,
      "outputs": []
    },
    {
      "cell_type": "code",
      "source": [
        "df = getDF('/content/drive/MyDrive/Musical_Instruments_5.json.gz')"
      ],
      "metadata": {
        "id": "OfkIY6z_O1Qq"
      },
      "execution_count": 4,
      "outputs": []
    },
    {
      "cell_type": "code",
      "source": [
        "df = df[[\"asin\", \"reviewText\"]]\n",
        "df = df.dropna()"
      ],
      "metadata": {
        "id": "1VTA9-x9O73n"
      },
      "execution_count": 5,
      "outputs": []
    },
    {
      "cell_type": "markdown",
      "source": [
        "### 1.\n",
        "\n",
        "1. Посчитать Tf-idf, где документ = коллекция отзывов для одного айтема. Таким образом с помощью idf вектора получится найти наиболее уникальные слова. А если какие-то слова уникальны для отзывов конкретного айтема, то мое предположение, что эти слова как-то характеризуют данный айтем. Если на такой топ наложить фильтр, например, на существительные, то это у будут искомые NE. То же можно сделать с биграммами, триграммами. Из данных нужны только отзывы сгруппированные по товарам. Из достоинств минимум ручной работы, из недостатков неточность, потому что будет много сущностей, которые не являются NE.\n",
        "\n",
        "2. Так же поделить отзывы по айтемам и найти наиболее частотные для каждого конкретного айтема. Далее так же наложить фильтр и тоже получатся NE. Данные, достоинства и недостатки те же, что и в предыдущем подходе.\n",
        "\n",
        "3. Если были бы метаданные (мне их так и не прислали), то из заголовков/описаний можно вытащить существительные (или какой-то другой фильтр, например, сущ + число для NE типа \"Iphone 10\"). Потом построить эмбеддинги по этим сущностям и по словам из отзывов и среди последних искать наиболее близкие к первым. В итоге тоже получается коллекция NE. В качестве данных еще нужны метаданные. По сравнению с предыдущими подходами точность должна повыситься, так как мы теперь ищем сущности более явные, но при этом и ручная работа добавляется."
      ],
      "metadata": {
        "id": "HqoPagfKX6st"
      }
    },
    {
      "cell_type": "markdown",
      "source": [
        "## 2."
      ],
      "metadata": {
        "id": "Xz3eKaXQcz0K"
      }
    },
    {
      "cell_type": "markdown",
      "source": [
        "Я сначала хотела реализовать tf-idf, но этот способ не сработал, но я все равно хотела его показать, поэтому сначала приведен код для этого случая, а потом для другого метода с CountVectorzer."
      ],
      "metadata": {
        "id": "CigNShcDfGNM"
      }
    },
    {
      "cell_type": "markdown",
      "source": [
        "### Предобработка данных"
      ],
      "metadata": {
        "id": "8uAR9DAlfYMf"
      }
    },
    {
      "cell_type": "code",
      "source": [
        "df_agg = df.groupby(\"asin\").agg(list)\n",
        "df_agg[\"texts\"] = df_agg[\"reviewText\"].apply(lambda x: \" \".join(x))"
      ],
      "metadata": {
        "id": "ZgXlCQ6MP-8r"
      },
      "execution_count": 8,
      "outputs": []
    },
    {
      "cell_type": "code",
      "source": [
        "df_agg"
      ],
      "metadata": {
        "colab": {
          "base_uri": "https://localhost:8080/",
          "height": 455
        },
        "id": "6TdJb2W9P0Vk",
        "outputId": "cb0541ea-133a-4e02-e3f1-07116d386119"
      },
      "execution_count": 44,
      "outputs": [
        {
          "output_type": "execute_result",
          "data": {
            "text/plain": [
              "                                                   reviewText  \\\n",
              "asin                                                            \n",
              "0739079891  [It's good for beginners, I recommend this sta...   \n",
              "0786615206  [Very ordinary suctions, but strong. Can adjus...   \n",
              "1480360295  [So far it works as designed but it needs ridg...   \n",
              "1928571018  [This books proves to be handy to any self-lea...   \n",
              "9792372326  [I have been using QSC K10s for close to a cou...   \n",
              "...                                                       ...   \n",
              "B01HHJXKRG  [Never forget another riff idea. Works perfect...   \n",
              "B01HHZAU3W  [Cute tuners. My daughters love it., The girlf...   \n",
              "B01HI1VM28  [great for guitar pot nuts, also makes a nice ...   \n",
              "B01HI5M4GW  [Received and worked, as advertised., Save you...   \n",
              "B01HIDOPP2  [I trashed the wiring in an inexpensive guitar...   \n",
              "\n",
              "                                                        texts  \n",
              "asin                                                           \n",
              "0739079891  It's good for beginners I recommend this start...  \n",
              "0786615206  Very ordinary suctions, but strong. Can adjust...  \n",
              "1480360295  So far it works as designed but it needs ridge...  \n",
              "1928571018  This books proves to be handy to any self-lear...  \n",
              "9792372326  I have been using QSC K10s for close to a coup...  \n",
              "...                                                       ...  \n",
              "B01HHJXKRG  Never forget another riff idea. Works perfectl...  \n",
              "B01HHZAU3W  Cute tuners. My daughters love it. The girlfri...  \n",
              "B01HI1VM28  great for guitar pot nuts, also makes a nice l...  \n",
              "B01HI5M4GW  Received and worked, as advertised. Save your ...  \n",
              "B01HIDOPP2  I trashed the wiring in an inexpensive guitar ...  \n",
              "\n",
              "[10620 rows x 2 columns]"
            ],
            "text/html": [
              "\n",
              "  <div id=\"df-6912f165-26d8-46c1-b52d-615af98ecc2a\">\n",
              "    <div class=\"colab-df-container\">\n",
              "      <div>\n",
              "<style scoped>\n",
              "    .dataframe tbody tr th:only-of-type {\n",
              "        vertical-align: middle;\n",
              "    }\n",
              "\n",
              "    .dataframe tbody tr th {\n",
              "        vertical-align: top;\n",
              "    }\n",
              "\n",
              "    .dataframe thead th {\n",
              "        text-align: right;\n",
              "    }\n",
              "</style>\n",
              "<table border=\"1\" class=\"dataframe\">\n",
              "  <thead>\n",
              "    <tr style=\"text-align: right;\">\n",
              "      <th></th>\n",
              "      <th>reviewText</th>\n",
              "      <th>texts</th>\n",
              "    </tr>\n",
              "    <tr>\n",
              "      <th>asin</th>\n",
              "      <th></th>\n",
              "      <th></th>\n",
              "    </tr>\n",
              "  </thead>\n",
              "  <tbody>\n",
              "    <tr>\n",
              "      <th>0739079891</th>\n",
              "      <td>[It's good for beginners, I recommend this sta...</td>\n",
              "      <td>It's good for beginners I recommend this start...</td>\n",
              "    </tr>\n",
              "    <tr>\n",
              "      <th>0786615206</th>\n",
              "      <td>[Very ordinary suctions, but strong. Can adjus...</td>\n",
              "      <td>Very ordinary suctions, but strong. Can adjust...</td>\n",
              "    </tr>\n",
              "    <tr>\n",
              "      <th>1480360295</th>\n",
              "      <td>[So far it works as designed but it needs ridg...</td>\n",
              "      <td>So far it works as designed but it needs ridge...</td>\n",
              "    </tr>\n",
              "    <tr>\n",
              "      <th>1928571018</th>\n",
              "      <td>[This books proves to be handy to any self-lea...</td>\n",
              "      <td>This books proves to be handy to any self-lear...</td>\n",
              "    </tr>\n",
              "    <tr>\n",
              "      <th>9792372326</th>\n",
              "      <td>[I have been using QSC K10s for close to a cou...</td>\n",
              "      <td>I have been using QSC K10s for close to a coup...</td>\n",
              "    </tr>\n",
              "    <tr>\n",
              "      <th>...</th>\n",
              "      <td>...</td>\n",
              "      <td>...</td>\n",
              "    </tr>\n",
              "    <tr>\n",
              "      <th>B01HHJXKRG</th>\n",
              "      <td>[Never forget another riff idea. Works perfect...</td>\n",
              "      <td>Never forget another riff idea. Works perfectl...</td>\n",
              "    </tr>\n",
              "    <tr>\n",
              "      <th>B01HHZAU3W</th>\n",
              "      <td>[Cute tuners. My daughters love it., The girlf...</td>\n",
              "      <td>Cute tuners. My daughters love it. The girlfri...</td>\n",
              "    </tr>\n",
              "    <tr>\n",
              "      <th>B01HI1VM28</th>\n",
              "      <td>[great for guitar pot nuts, also makes a nice ...</td>\n",
              "      <td>great for guitar pot nuts, also makes a nice l...</td>\n",
              "    </tr>\n",
              "    <tr>\n",
              "      <th>B01HI5M4GW</th>\n",
              "      <td>[Received and worked, as advertised., Save you...</td>\n",
              "      <td>Received and worked, as advertised. Save your ...</td>\n",
              "    </tr>\n",
              "    <tr>\n",
              "      <th>B01HIDOPP2</th>\n",
              "      <td>[I trashed the wiring in an inexpensive guitar...</td>\n",
              "      <td>I trashed the wiring in an inexpensive guitar ...</td>\n",
              "    </tr>\n",
              "  </tbody>\n",
              "</table>\n",
              "<p>10620 rows × 2 columns</p>\n",
              "</div>\n",
              "      <button class=\"colab-df-convert\" onclick=\"convertToInteractive('df-6912f165-26d8-46c1-b52d-615af98ecc2a')\"\n",
              "              title=\"Convert this dataframe to an interactive table.\"\n",
              "              style=\"display:none;\">\n",
              "        \n",
              "  <svg xmlns=\"http://www.w3.org/2000/svg\" height=\"24px\"viewBox=\"0 0 24 24\"\n",
              "       width=\"24px\">\n",
              "    <path d=\"M0 0h24v24H0V0z\" fill=\"none\"/>\n",
              "    <path d=\"M18.56 5.44l.94 2.06.94-2.06 2.06-.94-2.06-.94-.94-2.06-.94 2.06-2.06.94zm-11 1L8.5 8.5l.94-2.06 2.06-.94-2.06-.94L8.5 2.5l-.94 2.06-2.06.94zm10 10l.94 2.06.94-2.06 2.06-.94-2.06-.94-.94-2.06-.94 2.06-2.06.94z\"/><path d=\"M17.41 7.96l-1.37-1.37c-.4-.4-.92-.59-1.43-.59-.52 0-1.04.2-1.43.59L10.3 9.45l-7.72 7.72c-.78.78-.78 2.05 0 2.83L4 21.41c.39.39.9.59 1.41.59.51 0 1.02-.2 1.41-.59l7.78-7.78 2.81-2.81c.8-.78.8-2.07 0-2.86zM5.41 20L4 18.59l7.72-7.72 1.47 1.35L5.41 20z\"/>\n",
              "  </svg>\n",
              "      </button>\n",
              "      \n",
              "  <style>\n",
              "    .colab-df-container {\n",
              "      display:flex;\n",
              "      flex-wrap:wrap;\n",
              "      gap: 12px;\n",
              "    }\n",
              "\n",
              "    .colab-df-convert {\n",
              "      background-color: #E8F0FE;\n",
              "      border: none;\n",
              "      border-radius: 50%;\n",
              "      cursor: pointer;\n",
              "      display: none;\n",
              "      fill: #1967D2;\n",
              "      height: 32px;\n",
              "      padding: 0 0 0 0;\n",
              "      width: 32px;\n",
              "    }\n",
              "\n",
              "    .colab-df-convert:hover {\n",
              "      background-color: #E2EBFA;\n",
              "      box-shadow: 0px 1px 2px rgba(60, 64, 67, 0.3), 0px 1px 3px 1px rgba(60, 64, 67, 0.15);\n",
              "      fill: #174EA6;\n",
              "    }\n",
              "\n",
              "    [theme=dark] .colab-df-convert {\n",
              "      background-color: #3B4455;\n",
              "      fill: #D2E3FC;\n",
              "    }\n",
              "\n",
              "    [theme=dark] .colab-df-convert:hover {\n",
              "      background-color: #434B5C;\n",
              "      box-shadow: 0px 1px 3px 1px rgba(0, 0, 0, 0.15);\n",
              "      filter: drop-shadow(0px 1px 2px rgba(0, 0, 0, 0.3));\n",
              "      fill: #FFFFFF;\n",
              "    }\n",
              "  </style>\n",
              "\n",
              "      <script>\n",
              "        const buttonEl =\n",
              "          document.querySelector('#df-6912f165-26d8-46c1-b52d-615af98ecc2a button.colab-df-convert');\n",
              "        buttonEl.style.display =\n",
              "          google.colab.kernel.accessAllowed ? 'block' : 'none';\n",
              "\n",
              "        async function convertToInteractive(key) {\n",
              "          const element = document.querySelector('#df-6912f165-26d8-46c1-b52d-615af98ecc2a');\n",
              "          const dataTable =\n",
              "            await google.colab.kernel.invokeFunction('convertToInteractive',\n",
              "                                                     [key], {});\n",
              "          if (!dataTable) return;\n",
              "\n",
              "          const docLinkHtml = 'Like what you see? Visit the ' +\n",
              "            '<a target=\"_blank\" href=https://colab.research.google.com/notebooks/data_table.ipynb>data table notebook</a>'\n",
              "            + ' to learn more about interactive tables.';\n",
              "          element.innerHTML = '';\n",
              "          dataTable['output_type'] = 'display_data';\n",
              "          await google.colab.output.renderOutput(dataTable, element);\n",
              "          const docLink = document.createElement('div');\n",
              "          docLink.innerHTML = docLinkHtml;\n",
              "          element.appendChild(docLink);\n",
              "        }\n",
              "      </script>\n",
              "    </div>\n",
              "  </div>\n",
              "  "
            ]
          },
          "metadata": {},
          "execution_count": 44
        }
      ]
    },
    {
      "cell_type": "markdown",
      "source": [
        "### Tf-Idf"
      ],
      "metadata": {
        "id": "7IA28ecxfbaB"
      }
    },
    {
      "cell_type": "code",
      "source": [
        "def tokenizer(text):\n",
        "    result = []\n",
        "    for word in word_tokenize(text.lower()):\n",
        "        if (re.search(r\"[^a-z0-9 ]\", word) is None) and word not in stopwords:\n",
        "            result.append(word)\n",
        "    return result"
      ],
      "metadata": {
        "id": "MZaJB6-aSCwB"
      },
      "execution_count": 6,
      "outputs": []
    },
    {
      "cell_type": "code",
      "source": [
        "from sklearn.feature_extraction.text import TfidfVectorizer"
      ],
      "metadata": {
        "id": "5cedk5OJQ8-T"
      },
      "execution_count": 32,
      "outputs": []
    },
    {
      "cell_type": "code",
      "source": [
        "vec = TfidfVectorizer(tokenizer=tokenizer)"
      ],
      "metadata": {
        "id": "JGaSgNsbSw7s"
      },
      "execution_count": 48,
      "outputs": []
    },
    {
      "cell_type": "code",
      "source": [
        "vec.fit(df_agg[\"texts\"])"
      ],
      "metadata": {
        "colab": {
          "base_uri": "https://localhost:8080/"
        },
        "id": "XH0hAt2aSyvT",
        "outputId": "2036710d-45da-4222-fca4-636b94993b90"
      },
      "execution_count": 49,
      "outputs": [
        {
          "output_type": "stream",
          "name": "stderr",
          "text": [
            "/usr/local/lib/python3.8/dist-packages/sklearn/feature_extraction/text.py:516: UserWarning: The parameter 'token_pattern' will not be used since 'tokenizer' is not None'\n",
            "  warnings.warn(\n"
          ]
        },
        {
          "output_type": "execute_result",
          "data": {
            "text/plain": [
              "TfidfVectorizer(tokenizer=<function tokenizer at 0x7ffa17bbec10>)"
            ]
          },
          "metadata": {},
          "execution_count": 49
        }
      ]
    },
    {
      "cell_type": "code",
      "source": [
        "voc = vec.get_feature_names_out()"
      ],
      "metadata": {
        "id": "PPJynpQ5S7wf"
      },
      "execution_count": 50,
      "outputs": []
    },
    {
      "cell_type": "code",
      "source": [
        "top_10 = np.argpartition(vec.idf_, -100)[-100:]"
      ],
      "metadata": {
        "id": "GzbU4W3oVQGT"
      },
      "execution_count": 51,
      "outputs": []
    },
    {
      "cell_type": "code",
      "source": [
        "voc[top_10]"
      ],
      "metadata": {
        "colab": {
          "base_uri": "https://localhost:8080/"
        },
        "id": "tmcy2w2UVTkT",
        "outputId": "85465af7-10ac-427f-a8dc-ce7c5ef412b0"
      },
      "execution_count": 52,
      "outputs": [
        {
          "output_type": "execute_result",
          "data": {
            "text/plain": [
              "array(['btr', 'modrl', 'btb455', 'btb1405e', 'modulesand', 'bt4s',\n",
              "       'moecks', 'moer', 'btq', 'mocking', 'modi2', 'modmics', 'modmic',\n",
              "       'modlines', 'modler', 'modle', 'moding', 'btr2000', 'btrak',\n",
              "       'modifiy', 'modifiing', 'modifies', 'bttaaaaaannggg', 'bttm',\n",
              "       'modifcations', 'modication', 'mocrophone', 'mofi', 'mk25',\n",
              "       'mochipet', 'moccasins', 'moca', 'mobo', 'mobley', 'mobilpre',\n",
              "       'mobilized', 'mobilesheets', 'buckos', 'mobilepod', 'mobilecube',\n",
              "       'moba', 'mob', 'moar', 'moans', 'moaned', 'buckskin', 'mo9unt',\n",
              "       'mo6', 'mnufacturer', 'mnr1', 'mnimos', 'mni', 'mnemonic', 'mn108',\n",
              "       'mmx10', 'mmx', 'buddha', 'mms1', 'buddhist', 'mmmph',\n",
              "       'mmmmmmmmmm', 'mmmmmmmmm', 'mmmmmmm', 'mmmmmmd', 'mmmmmm',\n",
              "       'buddys', 'mmm12', 'budet', 'mmic', 'mmf', 'mmacss', 'mma', 'mm9',\n",
              "       'mm50', 'mm160', 'mm1', 'budgetary', 'mlx990', 'mlw', 'mlthe',\n",
              "       'mlt', 'mls', 'mlikely', 'mlg', 'mlcrophone', 'mlc', 'mlange',\n",
              "       'mla', 'ml2', 'budgeted', 'mkv', 'mks20', 'mkl2500', 'budgety',\n",
              "       'mkbhd', 'mkb', 'mkaes', 'mk5g', 'mk3s', 'zzzzz'], dtype=object)"
            ]
          },
          "metadata": {},
          "execution_count": 52
        }
      ]
    },
    {
      "cell_type": "markdown",
      "source": [
        "Эти слова похожи на рандом. Возможно, обозначения типа \"mks20\" являются какими-то идентификаторами товаров. Как вариант, можно было бы отсортировать вектор и взять не самые большие значения idf, которые больше похожи на выбросы, а где-то по середине. Но я в итоге перешла к следующему варианту, который оказался лучше"
      ],
      "metadata": {
        "id": "ZnJEQYethxp6"
      }
    },
    {
      "cell_type": "markdown",
      "source": [
        "### CountVectorizer"
      ],
      "metadata": {
        "id": "aC8IVcn5f0Cg"
      }
    },
    {
      "cell_type": "code",
      "source": [
        "from sklearn.feature_extraction.text import CountVectorizer"
      ],
      "metadata": {
        "id": "kdw2XBC4UO0P"
      },
      "execution_count": 9,
      "outputs": []
    },
    {
      "cell_type": "code",
      "source": [
        "vectorizer = CountVectorizer(tokenizer=tokenizer)"
      ],
      "metadata": {
        "id": "o1oRhw5QWG53"
      },
      "execution_count": 10,
      "outputs": []
    },
    {
      "cell_type": "code",
      "source": [
        "X = vectorizer.fit_transform(df_agg[\"texts\"].tolist())"
      ],
      "metadata": {
        "id": "sLAMmAsSWIeW"
      },
      "execution_count": 11,
      "outputs": []
    },
    {
      "cell_type": "code",
      "source": [
        "words = vectorizer.get_feature_names_out()"
      ],
      "metadata": {
        "id": "CYIpU7TdWMSX"
      },
      "execution_count": 12,
      "outputs": []
    },
    {
      "cell_type": "code",
      "source": [
        "NE = []\n",
        "\n",
        "for i in range(X.shape[0]):\n",
        "    if X[i].max() > 10:\n",
        "        top_10 = np.argpartition(X[i].toarray()[0], -5)[-5:]\n",
        "        top_words = nltk.pos_tag(words[top_10])\n",
        "        NE.extend([w for w, p in top_words if \"NN\" in p])"
      ],
      "metadata": {
        "id": "udMojugCbNPk"
      },
      "execution_count": 46,
      "outputs": []
    },
    {
      "cell_type": "code",
      "source": [
        "len(set(NE))"
      ],
      "metadata": {
        "colab": {
          "base_uri": "https://localhost:8080/"
        },
        "id": "lBSTltN1efrp",
        "outputId": "6455615d-f48b-44af-efc0-0bc384f02696"
      },
      "execution_count": 47,
      "outputs": [
        {
          "output_type": "execute_result",
          "data": {
            "text/plain": [
              "1525"
            ]
          },
          "metadata": {},
          "execution_count": 47
        }
      ]
    },
    {
      "cell_type": "code",
      "source": [
        "NE = set(NE)"
      ],
      "metadata": {
        "id": "xp09sJWZgOJj"
      },
      "execution_count": 57,
      "outputs": []
    },
    {
      "cell_type": "markdown",
      "source": [
        "Здесь сущности больше похожи на NE"
      ],
      "metadata": {
        "id": "_apAMwWNitwJ"
      }
    },
    {
      "cell_type": "markdown",
      "source": [
        "## 3."
      ],
      "metadata": {
        "id": "PcUpunfhmaL8"
      }
    },
    {
      "cell_type": "code",
      "source": [
        "df_agg[\"tokenized\"] = df_agg[\"texts\"].apply(tokenizer)"
      ],
      "metadata": {
        "id": "thND3uAYjUok"
      },
      "execution_count": 56,
      "outputs": []
    },
    {
      "cell_type": "code",
      "source": [
        "tokens = [item for sublist in df_agg[\"tokenized\"].tolist() for item in sublist]"
      ],
      "metadata": {
        "id": "KFNw7hnoq4xn"
      },
      "execution_count": 68,
      "outputs": []
    },
    {
      "cell_type": "code",
      "source": [
        "bigram_measures = nltk.collocations.BigramAssocMeasures()"
      ],
      "metadata": {
        "id": "ZGnbAMFEmb6e"
      },
      "execution_count": 65,
      "outputs": []
    },
    {
      "cell_type": "code",
      "source": [
        "finder = nltk.collocations.BigramCollocationFinder.from_words(tokens)"
      ],
      "metadata": {
        "id": "DutD4zwvqDIM"
      },
      "execution_count": 78,
      "outputs": []
    },
    {
      "cell_type": "code",
      "source": [
        "len(finder.score_ngrams(bigram_measures.likelihood_ratio))"
      ],
      "metadata": {
        "colab": {
          "base_uri": "https://localhost:8080/"
        },
        "id": "BCqa-NiKrczl",
        "outputId": "86d3cf91-d455-426a-938d-71b0eab7f592"
      },
      "execution_count": 72,
      "outputs": [
        {
          "output_type": "execute_result",
          "data": {
            "text/plain": [
              "2250677"
            ]
          },
          "metadata": {},
          "execution_count": 72
        }
      ]
    },
    {
      "cell_type": "code",
      "source": [
        "finder.apply_word_filter(lambda x: x not in NE)"
      ],
      "metadata": {
        "id": "c932iQhGr6cE"
      },
      "execution_count": 79,
      "outputs": []
    },
    {
      "cell_type": "code",
      "source": [
        "len(finder.score_ngrams(bigram_measures.likelihood_ratio))"
      ],
      "metadata": {
        "colab": {
          "base_uri": "https://localhost:8080/"
        },
        "id": "AD5NlfXUrn6n",
        "outputId": "1e6c8711-ff8a-4110-ef34-df42b24464dc"
      },
      "execution_count": 80,
      "outputs": [
        {
          "output_type": "execute_result",
          "data": {
            "text/plain": [
              "206664"
            ]
          },
          "metadata": {},
          "execution_count": 80
        }
      ]
    },
    {
      "cell_type": "markdown",
      "source": [
        "## 4."
      ],
      "metadata": {
        "id": "J-E9sHTusioy"
      }
    },
    {
      "cell_type": "code",
      "source": [
        "finder.nbest(bigram_measures.likelihood_ratio, 30)"
      ],
      "metadata": {
        "colab": {
          "base_uri": "https://localhost:8080/"
        },
        "id": "pAIlMP_csSRC",
        "outputId": "b8f7a3de-7a78-4805-bcbf-becc829a184a"
      },
      "execution_count": 84,
      "outputs": [
        {
          "output_type": "execute_result",
          "data": {
            "text/plain": [
              "[('les', 'paul'),\n",
              " ('power', 'supply'),\n",
              " ('works', 'well'),\n",
              " ('ernie', 'ball'),\n",
              " ('planet', 'waves'),\n",
              " ('gig', 'bag'),\n",
              " ('easy', 'use'),\n",
              " ('phantom', 'power'),\n",
              " ('good', 'quality'),\n",
              " ('pedal', 'board'),\n",
              " ('acoustic', 'guitar'),\n",
              " ('work', 'well'),\n",
              " ('pop', 'filter'),\n",
              " ('easy', 'install'),\n",
              " ('home', 'studio'),\n",
              " ('shock', 'mount'),\n",
              " ('truss', 'rod'),\n",
              " ('strap', 'locks'),\n",
              " ('mic', 'stand'),\n",
              " ('sound', 'quality'),\n",
              " ('light', 'weight'),\n",
              " ('good', 'price'),\n",
              " ('price', 'range'),\n",
              " ('tube', 'amp'),\n",
              " ('well', 'worth'),\n",
              " ('e', 'string'),\n",
              " ('good', 'product'),\n",
              " ('bottom', 'line'),\n",
              " ('solid', 'state'),\n",
              " ('audio', 'interface')]"
            ]
          },
          "metadata": {},
          "execution_count": 84
        }
      ]
    },
    {
      "cell_type": "code",
      "source": [
        "finder.nbest(bigram_measures.pmi, 30)"
      ],
      "metadata": {
        "colab": {
          "base_uri": "https://localhost:8080/"
        },
        "id": "aLSLOrRctFD8",
        "outputId": "dbfa524a-494c-4309-d244-92bcb9640583"
      },
      "execution_count": 85,
      "outputs": [
        {
          "output_type": "execute_result",
          "data": {
            "text/plain": [
              "[('fiio', 'd3'),\n",
              " ('kevin', 'berry'),\n",
              " ('rocktron', 'hush'),\n",
              " ('oak', 'grigsby'),\n",
              " ('kaplan', 'amo'),\n",
              " ('m3', 'm3'),\n",
              " ('baroque', 'bassoon'),\n",
              " ('pig', 'hog'),\n",
              " ('zt', 'lunchbox'),\n",
              " ('kaplan', 'vivo'),\n",
              " ('scrambler', 'scrambler'),\n",
              " ('hd600', 'r70x'),\n",
              " ('denon', 'dl'),\n",
              " ('jet', 'falcon'),\n",
              " ('atm650', 'atm650'),\n",
              " ('iron', 'cobra'),\n",
              " ('egg', 'shakers'),\n",
              " ('vic', 'firth'),\n",
              " ('la', 'voz'),\n",
              " ('suction', 'cups'),\n",
              " ('novation', 'audiohub'),\n",
              " ('shoe', 'laces'),\n",
              " ('dbx', 'driverack'),\n",
              " ('lsr308', 'hs8'),\n",
              " ('mountain', 'dulcimer'),\n",
              " ('grosgrain', 'ribbon'),\n",
              " ('alignment', 'protractor'),\n",
              " ('hush', 'rocktron'),\n",
              " ('lee', 'oskar'),\n",
              " ('ou5', 'ou5')]"
            ]
          },
          "metadata": {},
          "execution_count": 85
        }
      ]
    },
    {
      "cell_type": "code",
      "source": [
        "finder.nbest(bigram_measures.student_t, 30)"
      ],
      "metadata": {
        "colab": {
          "base_uri": "https://localhost:8080/"
        },
        "id": "7DYeOTjctKrp",
        "outputId": "ad96f904-9a25-4aa4-920c-3ed6f173dce8"
      },
      "execution_count": 86,
      "outputs": [
        {
          "output_type": "execute_result",
          "data": {
            "text/plain": [
              "[('works', 'well'),\n",
              " ('good', 'quality'),\n",
              " ('easy', 'use'),\n",
              " ('acoustic', 'guitar'),\n",
              " ('les', 'paul'),\n",
              " ('work', 'well'),\n",
              " ('sound', 'quality'),\n",
              " ('good', 'price'),\n",
              " ('power', 'supply'),\n",
              " ('pedal', 'board'),\n",
              " ('gig', 'bag'),\n",
              " ('good', 'product'),\n",
              " ('sound', 'good'),\n",
              " ('mic', 'stand'),\n",
              " ('sounds', 'good'),\n",
              " ('ernie', 'ball'),\n",
              " ('well', 'worth'),\n",
              " ('phantom', 'power'),\n",
              " ('sound', 'like'),\n",
              " ('feel', 'like'),\n",
              " ('planet', 'waves'),\n",
              " ('easy', 'install'),\n",
              " ('price', 'range'),\n",
              " ('sounds', 'like'),\n",
              " ('looks', 'like'),\n",
              " ('home', 'studio'),\n",
              " ('tube', 'amp'),\n",
              " ('guitar', 'strap'),\n",
              " ('guitar', 'strings'),\n",
              " ('light', 'weight')]"
            ]
          },
          "metadata": {},
          "execution_count": 86
        }
      ]
    },
    {
      "cell_type": "markdown",
      "source": [
        "Кажется, выбивается только pmi, выдает какие-то неинформативные коллокации. Оставшиеся два метода работают схоже, так что можно выбрать либо likelihood_ratio, либо student_t"
      ],
      "metadata": {
        "id": "jBoIYP3mttEw"
      }
    },
    {
      "cell_type": "markdown",
      "source": [
        "## 5."
      ],
      "metadata": {
        "id": "bMGUL1BOhSzh"
      }
    },
    {
      "cell_type": "code",
      "source": [
        "bgs = defaultdict(list)\n",
        "\n",
        "for tokens in df_agg[\"tokenized\"]:\n",
        "    for i, token in enumerate(tokens):\n",
        "        if token in NE:\n",
        "            if i > 0:\n",
        "               bgs[token].append([tokens[i-1], token])\n",
        "            if i < len(tokens) - 2:\n",
        "                bgs[token].append([token, tokens[i+1]])"
      ],
      "metadata": {
        "id": "SkBPXnLdjgRz"
      },
      "execution_count": 61,
      "outputs": []
    },
    {
      "cell_type": "markdown",
      "source": [
        "Я вывела по 10 биграмм для 5 товаров, потому что биграмм слишком много"
      ],
      "metadata": {
        "id": "bN2bWPtQlgn_"
      }
    },
    {
      "cell_type": "code",
      "source": [
        "i = 0\n",
        "for token in bgs:\n",
        "    print(token)\n",
        "    print(\"-----------------\")\n",
        "    for bg in bgs[token][:10]:\n",
        "        print(\" \".join(bg))\n",
        "    print(\"\\n\\n\")\n",
        "    i += 1\n",
        "    if i > 5:\n",
        "        break"
      ],
      "metadata": {
        "colab": {
          "base_uri": "https://localhost:8080/"
        },
        "id": "iAwn4wq5kU9T",
        "outputId": "6188b5c5-1e66-4c37-e1fc-74bbec3b125f"
      },
      "execution_count": 64,
      "outputs": [
        {
          "output_type": "stream",
          "name": "stdout",
          "text": [
            "good\n",
            "-----------------\n",
            "good beginners\n",
            "lots good\n",
            "good instructions\n",
            "pretty good\n",
            "good book\n",
            "really good\n",
            "good instructor\n",
            "values good\n",
            "good views\n",
            "app good\n",
            "\n",
            "\n",
            "\n",
            "ukulele\n",
            "-----------------\n",
            "starter ukulele\n",
            "ukulele kit\n",
            "learn ukulele\n",
            "ukulele received\n",
            "firebrand ukulele\n",
            "ukulele laminated\n",
            "specialty ukulele\n",
            "ukulele shop\n",
            "larger ukulele\n",
            "ukulele one\n",
            "\n",
            "\n",
            "\n",
            "kit\n",
            "-----------------\n",
            "ukulele kit\n",
            "kit everything\n",
            "bought kit\n",
            "kit towards\n",
            "ukulele kit\n",
            "kit got\n",
            "ordered kit\n",
            "kit price\n",
            "starter kit\n",
            "kit see\n",
            "\n",
            "\n",
            "\n",
            "everything\n",
            "-----------------\n",
            "kit everything\n",
            "everything need\n",
            "luckily everything\n",
            "everything inside\n",
            "hear everything\n",
            "everything levels\n",
            "away everything\n",
            "everything try\n",
            "djx everything\n",
            "everything perfect\n",
            "\n",
            "\n",
            "\n",
            "need\n",
            "-----------------\n",
            "everything need\n",
            "need learn\n",
            "thing need\n",
            "need either\n",
            "going need\n",
            "need lot\n",
            "likely need\n",
            "need acceptable\n",
            "still need\n",
            "need tuning\n",
            "\n",
            "\n",
            "\n",
            "order\n",
            "-----------------\n",
            "according order\n",
            "order history\n",
            "chance order\n",
            "order buy\n",
            "playable order\n",
            "order gain\n",
            "rubbing order\n",
            "order stop\n",
            "friend order\n",
            "order one\n",
            "\n",
            "\n",
            "\n"
          ]
        }
      ]
    }
  ]
}