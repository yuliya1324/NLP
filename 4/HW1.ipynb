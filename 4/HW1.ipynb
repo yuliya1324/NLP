{
 "cells": [
  {
   "cell_type": "code",
   "execution_count": null,
   "id": "c9fd8bb8",
   "metadata": {},
   "outputs": [],
   "source": [
    "# !pip install matplotlib_venn python-rake summa keybert"
   ]
  },
  {
   "cell_type": "code",
   "execution_count": 60,
   "id": "bdbe38e7",
   "metadata": {},
   "outputs": [],
   "source": [
    "import os\n",
    "import RAKE\n",
    "import nltk\n",
    "from nltk.corpus import stopwords\n",
    "from summa import keywords\n",
    "from keybert import KeyBERT\n",
    "import pandas as pd\n",
    "from matplotlib import pyplot as plt\n",
    "from matplotlib_venn import venn2"
   ]
  },
  {
   "cell_type": "markdown",
   "id": "f34b28f7",
   "metadata": {},
   "source": [
    "# 1."
   ]
  },
  {
   "cell_type": "markdown",
   "id": "206e6e66",
   "metadata": {},
   "source": [
    "Этот корпус состоит из текстов новостей по 10 категориям. Я взяла 6 текстов из категории \"технологии\". Ключевые слова перечислены в отдельном файле. Здесь именно слова, нет словосочетаний.\n",
    "\n",
    "Источник: [500N-KPCrowd-v1.1](https://github.com/LIAAD/KeywordExtractor-Datasets/blob/master/datasets/500N-KPCrowd-v1.1.zip)\n",
    "\n",
    "Статья: [Keyphrase cloud generation of broadcast news](https://arxiv.org/abs/1306.4606)"
   ]
  },
  {
   "cell_type": "code",
   "execution_count": 4,
   "id": "abe045dc",
   "metadata": {},
   "outputs": [],
   "source": [
    "texts = {}\n",
    "key_words = {}\n",
    "\n",
    "for root, dirs, files in os.walk(\"corpus\"):\n",
    "    for name in files:\n",
    "        filename, file_extension = os.path.splitext(name)\n",
    "        with open(os.path.join(root, name), encoding=\"utf-8\") as file:\n",
    "            text = file.read()\n",
    "        \n",
    "        if file_extension == \".txt\":\n",
    "            texts[filename] = text\n",
    "        else:\n",
    "            key_words[filename] = text.split()"
   ]
  },
  {
   "cell_type": "code",
   "execution_count": 80,
   "id": "532d9e5f",
   "metadata": {},
   "outputs": [],
   "source": [
    "for key in key_words:\n",
    "    key_words[key] = set([k.lower() for k in key_words[key]])"
   ]
  },
  {
   "cell_type": "markdown",
   "id": "774b7390",
   "metadata": {},
   "source": [
    "# 3."
   ]
  },
  {
   "cell_type": "markdown",
   "id": "341124ca",
   "metadata": {},
   "source": [
    "Я использовала 3 метода:\n",
    "* RAKE\n",
    "* TextRank\n",
    "* KeyBERT"
   ]
  },
  {
   "cell_type": "code",
   "execution_count": 38,
   "id": "fe5316e9",
   "metadata": {},
   "outputs": [],
   "source": [
    "results_rake = {}\n",
    "results_textrank = {}\n",
    "results_keybert = {}"
   ]
  },
  {
   "cell_type": "markdown",
   "id": "31db29e2",
   "metadata": {},
   "source": [
    "### RAKE"
   ]
  },
  {
   "cell_type": "code",
   "execution_count": 9,
   "id": "1341c155",
   "metadata": {},
   "outputs": [],
   "source": [
    "stop = stopwords.words('english')"
   ]
  },
  {
   "cell_type": "code",
   "execution_count": 11,
   "id": "83cc17cc",
   "metadata": {},
   "outputs": [],
   "source": [
    "rake = RAKE.Rake(stop)"
   ]
  },
  {
   "cell_type": "code",
   "execution_count": 39,
   "id": "44084019",
   "metadata": {},
   "outputs": [],
   "source": [
    "for key in texts:\n",
    "    results_rake[key] = rake.run(texts[key], maxWords=1, minFrequency=2)"
   ]
  },
  {
   "cell_type": "markdown",
   "id": "de7564a7",
   "metadata": {},
   "source": [
    "### TextRank"
   ]
  },
  {
   "cell_type": "code",
   "execution_count": 44,
   "id": "73eb9f27",
   "metadata": {},
   "outputs": [],
   "source": [
    "for key in texts:\n",
    "    results_textrank[key] = keywords.keywords(texts[key], language='english', additional_stopwords=stop, scores=True)"
   ]
  },
  {
   "cell_type": "markdown",
   "id": "31bd00b8",
   "metadata": {},
   "source": [
    "### KeyBERT"
   ]
  },
  {
   "cell_type": "code",
   "execution_count": 24,
   "id": "f83edf3a",
   "metadata": {
    "collapsed": true
   },
   "outputs": [
    {
     "data": {
      "application/vnd.jupyter.widget-view+json": {
       "model_id": "3ea825d777f64b2b818266172ec92b0b",
       "version_major": 2,
       "version_minor": 0
      },
      "text/plain": [
       "Downloading:   0%|          | 0.00/1.65k [00:00<?, ?B/s]"
      ]
     },
     "metadata": {},
     "output_type": "display_data"
    },
    {
     "data": {
      "application/vnd.jupyter.widget-view+json": {
       "model_id": "a8c8792f946a4663a17dcee228ce1915",
       "version_major": 2,
       "version_minor": 0
      },
      "text/plain": [
       "Downloading:   0%|          | 0.00/190 [00:00<?, ?B/s]"
      ]
     },
     "metadata": {},
     "output_type": "display_data"
    },
    {
     "data": {
      "application/vnd.jupyter.widget-view+json": {
       "model_id": "454b590a4c424b85ab31974432db9b68",
       "version_major": 2,
       "version_minor": 0
      },
      "text/plain": [
       "Downloading:   0%|          | 0.00/3.74k [00:00<?, ?B/s]"
      ]
     },
     "metadata": {},
     "output_type": "display_data"
    },
    {
     "data": {
      "application/vnd.jupyter.widget-view+json": {
       "model_id": "274a2e2228bd45d2a1fb609a8f835ac7",
       "version_major": 2,
       "version_minor": 0
      },
      "text/plain": [
       "Downloading:   0%|          | 0.00/48.0 [00:00<?, ?B/s]"
      ]
     },
     "metadata": {},
     "output_type": "display_data"
    },
    {
     "data": {
      "application/vnd.jupyter.widget-view+json": {
       "model_id": "92d52e6d87914b2ba56bd984f6ff204b",
       "version_major": 2,
       "version_minor": 0
      },
      "text/plain": [
       "Downloading:   0%|          | 0.00/778 [00:00<?, ?B/s]"
      ]
     },
     "metadata": {},
     "output_type": "display_data"
    },
    {
     "data": {
      "application/vnd.jupyter.widget-view+json": {
       "model_id": "d5ab9aa4ea9a445b9551e0fb5b169a57",
       "version_major": 2,
       "version_minor": 0
      },
      "text/plain": [
       "Downloading:   0%|          | 0.00/117 [00:00<?, ?B/s]"
      ]
     },
     "metadata": {},
     "output_type": "display_data"
    },
    {
     "data": {
      "application/vnd.jupyter.widget-view+json": {
       "model_id": "39deffc3be2e440193e16286e57a6ad1",
       "version_major": 2,
       "version_minor": 0
      },
      "text/plain": [
       "Downloading:   0%|          | 0.00/1.11G [00:00<?, ?B/s]"
      ]
     },
     "metadata": {},
     "output_type": "display_data"
    },
    {
     "data": {
      "application/vnd.jupyter.widget-view+json": {
       "model_id": "50524d709779478f864fb8f4229d4447",
       "version_major": 2,
       "version_minor": 0
      },
      "text/plain": [
       "Downloading:   0%|          | 0.00/53.0 [00:00<?, ?B/s]"
      ]
     },
     "metadata": {},
     "output_type": "display_data"
    },
    {
     "data": {
      "application/vnd.jupyter.widget-view+json": {
       "model_id": "740b7f4186604a918cf94d02d05376a6",
       "version_major": 2,
       "version_minor": 0
      },
      "text/plain": [
       "Downloading:   0%|          | 0.00/5.07M [00:00<?, ?B/s]"
      ]
     },
     "metadata": {},
     "output_type": "display_data"
    },
    {
     "data": {
      "application/vnd.jupyter.widget-view+json": {
       "model_id": "831c615fe1274a31837b8b0ecb44ff5e",
       "version_major": 2,
       "version_minor": 0
      },
      "text/plain": [
       "Downloading:   0%|          | 0.00/294 [00:00<?, ?B/s]"
      ]
     },
     "metadata": {},
     "output_type": "display_data"
    },
    {
     "data": {
      "application/vnd.jupyter.widget-view+json": {
       "model_id": "3eb680ad979f4e54ba80cc6768b7a065",
       "version_major": 2,
       "version_minor": 0
      },
      "text/plain": [
       "Downloading:   0%|          | 0.00/9.08M [00:00<?, ?B/s]"
      ]
     },
     "metadata": {},
     "output_type": "display_data"
    },
    {
     "data": {
      "application/vnd.jupyter.widget-view+json": {
       "model_id": "d1f5679a08ed4371a390b742c0bf19e2",
       "version_major": 2,
       "version_minor": 0
      },
      "text/plain": [
       "Downloading:   0%|          | 0.00/464 [00:00<?, ?B/s]"
      ]
     },
     "metadata": {},
     "output_type": "display_data"
    },
    {
     "data": {
      "application/vnd.jupyter.widget-view+json": {
       "model_id": "67353c180c474f3cbe4324cc9722b1ad",
       "version_major": 2,
       "version_minor": 0
      },
      "text/plain": [
       "Downloading:   0%|          | 0.00/229 [00:00<?, ?B/s]"
      ]
     },
     "metadata": {},
     "output_type": "display_data"
    },
    {
     "name": "stderr",
     "output_type": "stream",
     "text": [
      "C:\\Users\\Julia\\anaconda3\\lib\\site-packages\\transformers\\configuration_utils.py:364: UserWarning: Passing `gradient_checkpointing` to a config initialization is deprecated and will be removed in v5 Transformers. Using `model.gradient_checkpointing_enable()` instead, or if you are using the `Trainer` API, pass `gradient_checkpointing=True` in your `TrainingArguments`.\n",
      "  warnings.warn(\n"
     ]
    }
   ],
   "source": [
    "kw_model = KeyBERT('clips/mfaq')"
   ]
  },
  {
   "cell_type": "code",
   "execution_count": 41,
   "id": "70afea8d",
   "metadata": {},
   "outputs": [],
   "source": [
    "for key in texts:\n",
    "    results_keybert[key] = kw_model.extract_keywords(texts[key], stop_words=stop, top_n=len(key_words[\"tech-20949702\"]))"
   ]
  },
  {
   "cell_type": "markdown",
   "id": "1b7b213f",
   "metadata": {},
   "source": [
    "# 4."
   ]
  },
  {
   "cell_type": "markdown",
   "id": "ae477850",
   "metadata": {},
   "source": [
    "Поскольку здесь в ключевых словах нет словосочетаний, то шаблоны только такие:\n",
    "Noun, Adj, Verb, Adv"
   ]
  },
  {
   "cell_type": "code",
   "execution_count": 96,
   "id": "10f9c933",
   "metadata": {},
   "outputs": [],
   "source": [
    "from nltk import pos_tag"
   ]
  },
  {
   "cell_type": "code",
   "execution_count": 102,
   "id": "c6ee18bb",
   "metadata": {},
   "outputs": [],
   "source": [
    "tags = [\"JJ\", \"JJR\", \"JJS\", \"NN\", \"NNS\", \"NNP\", \"NNPS\", \"RB\", \"RBR\", \"RBS\", \"VB\", \"VBG\", \"VBD\", \"VBN\", \"VBP\", \"VBZ\"]\n",
    "\n",
    "results_rake_filtered = {}\n",
    "results_textrank_filtered = {}\n",
    "results_keybert_filtered = {}"
   ]
  },
  {
   "cell_type": "code",
   "execution_count": 103,
   "id": "8204dee5",
   "metadata": {},
   "outputs": [],
   "source": [
    "for key in texts:\n",
    "    for before, after in zip([results_rake, results_textrank, results_keybert], [results_rake_filtered, results_textrank_filtered, results_keybert_filtered]):\n",
    "        after[key] = [word for word, pos in pos_tag([p[0] for p in before[key]]) if pos in tags]"
   ]
  },
  {
   "cell_type": "markdown",
   "id": "5747e068",
   "metadata": {},
   "source": [
    "# 5."
   ]
  },
  {
   "cell_type": "code",
   "execution_count": 112,
   "id": "2613dacd",
   "metadata": {},
   "outputs": [],
   "source": [
    "def count_metrics(true, pred, filtered=False):\n",
    "    if not filtered:\n",
    "        pred = [p[0] for p in pred]\n",
    "    TP = 0\n",
    "    FP = 0\n",
    "    FN = sum([1 for word in true if word in pred])\n",
    "    for word in pred:\n",
    "        if word in true:\n",
    "            TP += 1\n",
    "        else:\n",
    "            FP += 1 \n",
    "    precision = TP / (TP + FP)\n",
    "    recall = TP / (TP + FN)\n",
    "    f_score = 2 * precision * recall / (precision + recall)\n",
    "    return precision, recall, f_score"
   ]
  },
  {
   "cell_type": "code",
   "execution_count": 114,
   "id": "956c9978",
   "metadata": {},
   "outputs": [],
   "source": [
    "columns = [\"text\", \"method\", \"precision\", \"recall\", \"f_score\", \"filtered\"]\n",
    "results = []\n",
    "\n",
    "for key in texts:\n",
    "    for method, res in zip([\"rake\", \"textrank\", \"keybert\"], [results_rake, results_textrank, results_keybert]):\n",
    "        if res[key]:\n",
    "            p, r, f = count_metrics(key_words[key], res[key])\n",
    "        else:\n",
    "            p, r, f = (0, 0, 0)\n",
    "        df = pd.DataFrame([[key, method, p, r, f, 0]], columns=columns)\n",
    "        results.append(df)\n",
    "        \n",
    "for key in texts:\n",
    "    for method, res in zip([\"rake\", \"textrank\", \"keybert\"], [results_rake_filtered, results_textrank_filtered, results_keybert_filtered]):\n",
    "        if res[key]:\n",
    "            p, r, f = count_metrics(key_words[key], res[key], True)\n",
    "        else:\n",
    "            p, r, f = (0, 0, 0)\n",
    "        df = pd.DataFrame([[key, method, p, r, f, 1]], columns=columns)\n",
    "        results.append(df) "
   ]
  },
  {
   "cell_type": "code",
   "execution_count": 115,
   "id": "fa9a8902",
   "metadata": {},
   "outputs": [],
   "source": [
    "results_df = pd.concat(results)"
   ]
  },
  {
   "cell_type": "markdown",
   "id": "816fded1",
   "metadata": {},
   "source": [
    "Ниже результаты усредненные по текстам для каждого метода"
   ]
  },
  {
   "cell_type": "code",
   "execution_count": 116,
   "id": "7340d237",
   "metadata": {},
   "outputs": [
    {
     "data": {
      "text/html": [
       "<div>\n",
       "<style scoped>\n",
       "    .dataframe tbody tr th:only-of-type {\n",
       "        vertical-align: middle;\n",
       "    }\n",
       "\n",
       "    .dataframe tbody tr th {\n",
       "        vertical-align: top;\n",
       "    }\n",
       "\n",
       "    .dataframe thead th {\n",
       "        text-align: right;\n",
       "    }\n",
       "</style>\n",
       "<table border=\"1\" class=\"dataframe\">\n",
       "  <thead>\n",
       "    <tr style=\"text-align: right;\">\n",
       "      <th></th>\n",
       "      <th></th>\n",
       "      <th>precision</th>\n",
       "      <th>recall</th>\n",
       "      <th>f_score</th>\n",
       "    </tr>\n",
       "    <tr>\n",
       "      <th>method</th>\n",
       "      <th>filtered</th>\n",
       "      <th></th>\n",
       "      <th></th>\n",
       "      <th></th>\n",
       "    </tr>\n",
       "  </thead>\n",
       "  <tbody>\n",
       "    <tr>\n",
       "      <th rowspan=\"2\" valign=\"top\">keybert</th>\n",
       "      <th>0</th>\n",
       "      <td>0.318641</td>\n",
       "      <td>0.500000</td>\n",
       "      <td>0.371401</td>\n",
       "    </tr>\n",
       "    <tr>\n",
       "      <th>1</th>\n",
       "      <td>0.326751</td>\n",
       "      <td>0.500000</td>\n",
       "      <td>0.377723</td>\n",
       "    </tr>\n",
       "    <tr>\n",
       "      <th rowspan=\"2\" valign=\"top\">rake</th>\n",
       "      <th>0</th>\n",
       "      <td>0.307540</td>\n",
       "      <td>0.416667</td>\n",
       "      <td>0.338146</td>\n",
       "    </tr>\n",
       "    <tr>\n",
       "      <th>1</th>\n",
       "      <td>0.308119</td>\n",
       "      <td>0.416667</td>\n",
       "      <td>0.339115</td>\n",
       "    </tr>\n",
       "    <tr>\n",
       "      <th rowspan=\"2\" valign=\"top\">textrank</th>\n",
       "      <th>0</th>\n",
       "      <td>0.438386</td>\n",
       "      <td>0.500000</td>\n",
       "      <td>0.437942</td>\n",
       "    </tr>\n",
       "    <tr>\n",
       "      <th>1</th>\n",
       "      <td>0.439745</td>\n",
       "      <td>0.500000</td>\n",
       "      <td>0.439363</td>\n",
       "    </tr>\n",
       "  </tbody>\n",
       "</table>\n",
       "</div>"
      ],
      "text/plain": [
       "                   precision    recall   f_score\n",
       "method   filtered                               \n",
       "keybert  0          0.318641  0.500000  0.371401\n",
       "         1          0.326751  0.500000  0.377723\n",
       "rake     0          0.307540  0.416667  0.338146\n",
       "         1          0.308119  0.416667  0.339115\n",
       "textrank 0          0.438386  0.500000  0.437942\n",
       "         1          0.439745  0.500000  0.439363"
      ]
     },
     "execution_count": 116,
     "metadata": {},
     "output_type": "execute_result"
    }
   ],
   "source": [
    "results_df.groupby([\"method\", \"filtered\"]).mean()"
   ]
  },
  {
   "cell_type": "code",
   "execution_count": 117,
   "id": "ea2aaf4d",
   "metadata": {},
   "outputs": [
    {
     "data": {
      "text/html": [
       "<div>\n",
       "<style scoped>\n",
       "    .dataframe tbody tr th:only-of-type {\n",
       "        vertical-align: middle;\n",
       "    }\n",
       "\n",
       "    .dataframe tbody tr th {\n",
       "        vertical-align: top;\n",
       "    }\n",
       "\n",
       "    .dataframe thead th {\n",
       "        text-align: right;\n",
       "    }\n",
       "</style>\n",
       "<table border=\"1\" class=\"dataframe\">\n",
       "  <thead>\n",
       "    <tr style=\"text-align: right;\">\n",
       "      <th></th>\n",
       "      <th>precision</th>\n",
       "      <th>recall</th>\n",
       "      <th>f_score</th>\n",
       "    </tr>\n",
       "    <tr>\n",
       "      <th>filtered</th>\n",
       "      <th></th>\n",
       "      <th></th>\n",
       "      <th></th>\n",
       "    </tr>\n",
       "  </thead>\n",
       "  <tbody>\n",
       "    <tr>\n",
       "      <th>0</th>\n",
       "      <td>0.354856</td>\n",
       "      <td>0.472222</td>\n",
       "      <td>0.382496</td>\n",
       "    </tr>\n",
       "    <tr>\n",
       "      <th>1</th>\n",
       "      <td>0.358205</td>\n",
       "      <td>0.472222</td>\n",
       "      <td>0.385400</td>\n",
       "    </tr>\n",
       "  </tbody>\n",
       "</table>\n",
       "</div>"
      ],
      "text/plain": [
       "          precision    recall   f_score\n",
       "filtered                               \n",
       "0          0.354856  0.472222  0.382496\n",
       "1          0.358205  0.472222  0.385400"
      ]
     },
     "execution_count": 117,
     "metadata": {},
     "output_type": "execute_result"
    }
   ],
   "source": [
    "results_df.groupby([\"filtered\"]).mean()"
   ]
  },
  {
   "cell_type": "code",
   "execution_count": 118,
   "id": "cc86f72c",
   "metadata": {},
   "outputs": [
    {
     "data": {
      "text/html": [
       "<div>\n",
       "<style scoped>\n",
       "    .dataframe tbody tr th:only-of-type {\n",
       "        vertical-align: middle;\n",
       "    }\n",
       "\n",
       "    .dataframe tbody tr th {\n",
       "        vertical-align: top;\n",
       "    }\n",
       "\n",
       "    .dataframe thead th {\n",
       "        text-align: right;\n",
       "    }\n",
       "</style>\n",
       "<table border=\"1\" class=\"dataframe\">\n",
       "  <thead>\n",
       "    <tr style=\"text-align: right;\">\n",
       "      <th></th>\n",
       "      <th>precision</th>\n",
       "      <th>recall</th>\n",
       "      <th>f_score</th>\n",
       "      <th>filtered</th>\n",
       "    </tr>\n",
       "    <tr>\n",
       "      <th>method</th>\n",
       "      <th></th>\n",
       "      <th></th>\n",
       "      <th></th>\n",
       "      <th></th>\n",
       "    </tr>\n",
       "  </thead>\n",
       "  <tbody>\n",
       "    <tr>\n",
       "      <th>keybert</th>\n",
       "      <td>0.322696</td>\n",
       "      <td>0.500000</td>\n",
       "      <td>0.374562</td>\n",
       "      <td>0.5</td>\n",
       "    </tr>\n",
       "    <tr>\n",
       "      <th>rake</th>\n",
       "      <td>0.307830</td>\n",
       "      <td>0.416667</td>\n",
       "      <td>0.338630</td>\n",
       "      <td>0.5</td>\n",
       "    </tr>\n",
       "    <tr>\n",
       "      <th>textrank</th>\n",
       "      <td>0.439066</td>\n",
       "      <td>0.500000</td>\n",
       "      <td>0.438653</td>\n",
       "      <td>0.5</td>\n",
       "    </tr>\n",
       "  </tbody>\n",
       "</table>\n",
       "</div>"
      ],
      "text/plain": [
       "          precision    recall   f_score  filtered\n",
       "method                                           \n",
       "keybert    0.322696  0.500000  0.374562       0.5\n",
       "rake       0.307830  0.416667  0.338630       0.5\n",
       "textrank   0.439066  0.500000  0.438653       0.5"
      ]
     },
     "execution_count": 118,
     "metadata": {},
     "output_type": "execute_result"
    }
   ],
   "source": [
    "results_df.groupby([\"method\"]).mean()"
   ]
  },
  {
   "cell_type": "markdown",
   "id": "28c1adee",
   "metadata": {},
   "source": [
    "# 6."
   ]
  },
  {
   "cell_type": "markdown",
   "id": "48b5847d",
   "metadata": {},
   "source": [
    "Как видно, качесто совсем плохое. Лучше всего справился TextRank, хуже всего -- RAKE. С морфосинтаксическим фильтром стало немного лучше.\n",
    "\n",
    "Для того, чтобы посмотреть, что лишнее выделяется или не выделяется, возьмем текст \"tech-20949702\" и метод textrank"
   ]
  },
  {
   "cell_type": "code",
   "execution_count": 84,
   "id": "a21b6b87",
   "metadata": {},
   "outputs": [],
   "source": [
    "pred = set([p[0] for p in results_textrank[\"tech-20949702\"]])\n",
    "true = key_words[\"tech-20949702\"]"
   ]
  },
  {
   "cell_type": "markdown",
   "id": "ce8db76b",
   "metadata": {},
   "source": [
    "Предсказалось меньше ключевых слов"
   ]
  },
  {
   "cell_type": "code",
   "execution_count": 85,
   "id": "c361daa2",
   "metadata": {},
   "outputs": [
    {
     "name": "stdout",
     "output_type": "stream",
     "text": [
      "true: 84, pred: 50\n"
     ]
    }
   ],
   "source": [
    "print(f\"true: {len(true)}, pred: {len(pred)}\")"
   ]
  },
  {
   "cell_type": "markdown",
   "id": "861b2a43",
   "metadata": {},
   "source": [
    "Я попыталась визуализировать ключевые слова на кругах Эйлера. Видно, что не предсказанных из нужных больше, чем лишних предсказанных. Предсказаны несколько словосочетаний, хотя здесь все ключевые слова состоят из одного слова. Например, среди ключевых слов есть app, tv, а среди предсказанных -- ipad app, tv channels, то есть они содержать нужные слова, но выделили еще лишние в добавок к ним."
   ]
  },
  {
   "cell_type": "code",
   "execution_count": 95,
   "id": "44c05491",
   "metadata": {},
   "outputs": [
    {
     "data": {
      "image/png": "[encoded data removed]",
      "text/plain": [
       "<Figure size 1440x1440 with 1 Axes>"
      ]
     },
     "metadata": {},
     "output_type": "display_data"
    }
   ],
   "source": [
    "plt.figure(figsize=(20,20))\n",
    "v = venn2([true, pred], set_labels=(\"true\", \"pred\"))\n",
    "v.get_label_by_id('10').set_text('\\n'.join(true-pred))\n",
    "v.get_label_by_id('11').set_text('\\n'.join(true&pred))\n",
    "v.get_label_by_id('01').set_text('\\n'.join(pred-true))\n",
    "plt.show()"
   ]
  },
  {
   "cell_type": "markdown",
   "id": "d0df2c62",
   "metadata": {},
   "source": [
    "На всякий случай еще перечислила просто списком для удобства. Сначала неверно предсказанные, а потом недо-предсказанные."
   ]
  },
  {
   "cell_type": "code",
   "execution_count": 87,
   "id": "7deba1ba",
   "metadata": {},
   "outputs": [
    {
     "data": {
      "text/plain": [
       "{'additional',\n",
       " 'allowing',\n",
       " 'allows',\n",
       " 'availability',\n",
       " 'available streams',\n",
       " 'control',\n",
       " 'controls',\n",
       " 'customer',\n",
       " 'delivering',\n",
       " 'delivers',\n",
       " 'devices',\n",
       " 'enhanced',\n",
       " 'guide',\n",
       " 'included',\n",
       " 'includes',\n",
       " 'including',\n",
       " 'ipad app',\n",
       " 'ipads',\n",
       " 'live',\n",
       " 'news',\n",
       " 'programming',\n",
       " 'rutledge',\n",
       " 'service',\n",
       " 'sheet',\n",
       " 'suitably',\n",
       " 'televisions',\n",
       " 'tv channels'}"
      ]
     },
     "execution_count": 87,
     "metadata": {},
     "output_type": "execute_result"
    }
   ],
   "source": [
    "pred.difference(true)"
   ]
  },
  {
   "cell_type": "code",
   "execution_count": 86,
   "id": "c0b79bb7",
   "metadata": {},
   "outputs": [
    {
     "data": {
      "text/plain": [
       "{'ability',\n",
       " 'account',\n",
       " 'advanced',\n",
       " 'app',\n",
       " 'bathroom',\n",
       " 'battle',\n",
       " 'box',\n",
       " 'boxes',\n",
       " 'broadcasters',\n",
       " 'browse',\n",
       " 'company',\n",
       " 'content',\n",
       " 'continue',\n",
       " 'convenience',\n",
       " 'delete',\n",
       " 'demand',\n",
       " 'demo',\n",
       " 'direct',\n",
       " 'display',\n",
       " 'distribution',\n",
       " 'diversity',\n",
       " 'download',\n",
       " 'easier',\n",
       " 'equipped',\n",
       " 'expected',\n",
       " 'experience',\n",
       " 'fact',\n",
       " 'function',\n",
       " 'future',\n",
       " 'gallery',\n",
       " 'home',\n",
       " 'hundreds',\n",
       " 'information',\n",
       " 'internet',\n",
       " 'ipad',\n",
       " 'kitchen',\n",
       " 'like',\n",
       " 'manage',\n",
       " 'multiple',\n",
       " 'new',\n",
       " 'offering',\n",
       " 'package',\n",
       " 'part',\n",
       " 'practical',\n",
       " 'press',\n",
       " 'previouslyrecorded',\n",
       " 'proprietary',\n",
       " 'release',\n",
       " 'residence',\n",
       " 'richness',\n",
       " 'searchable',\n",
       " 'settop',\n",
       " 'simultaneously',\n",
       " 'squared',\n",
       " 'streams',\n",
       " 'summer',\n",
       " 'tablet',\n",
       " 'tv',\n",
       " 'two',\n",
       " 'variety',\n",
       " 'video'}"
      ]
     },
     "execution_count": 86,
     "metadata": {},
     "output_type": "execute_result"
    }
   ],
   "source": [
    "true.difference(pred)"
   ]
  }
 ],
 "metadata": {
  "kernelspec": {
   "display_name": "Python 3 (ipykernel)",
   "language": "python",
   "name": "python3"
  },
  "language_info": {
   "codemirror_mode": {
    "name": "ipython",
    "version": 3
   },
   "file_extension": ".py",
   "mimetype": "text/x-python",
   "name": "python",
   "nbconvert_exporter": "python",
   "pygments_lexer": "ipython3",
   "version": "3.9.7"
  }
 },
 "nbformat": 4,
 "nbformat_minor": 5
}
